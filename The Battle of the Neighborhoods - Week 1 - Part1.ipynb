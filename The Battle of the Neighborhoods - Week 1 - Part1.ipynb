{
    "nbformat_minor": 1, 
    "cells": [
        {
            "source": "## The Battle of the Neighborhoods - Week 1 - Introduction & Business Problem", 
            "cell_type": "markdown", 
            "metadata": {
                "collapsed": true
            }
        }, 
        {
            "source": "### Introduction & Business Problem :", 
            "cell_type": "markdown", 
            "metadata": {}
        }, 
        {
            "source": "### Problem Background:\n", 
            "cell_type": "markdown", 
            "metadata": {}
        }, 
        {
            "source": "The City of New York, is the most populous city in the United States with an estimated 8,398,748 residents as of July 2018. It is a global hub of business and commerce. The city is a major center for banking and finance, retailing, world trade, transportation, tourism, real estate, new media, traditional media, advertising, legal services, accountancy, insurance, theater, fashion, and the arts in the United States. It is multicultural and offers a business friendly environment.", 
            "cell_type": "markdown", 
            "metadata": {}
        }, 
        {
            "source": "Newyork's business market is highly competitive.New business ventures needs lots of careful planning and Analysis. The insights derived from analysis of this project will summarise the current business environment, which help new business ventures to strategically target the market thus helping business venture to reduce of cost risk associated with setting a business.", 
            "cell_type": "markdown", 
            "metadata": {}
        }, 
        {
            "source": "### Problem Description:", 
            "cell_type": "markdown", 
            "metadata": {}
        }, 
        {
            "source": "A well established company wants to venture in to food business and are interested in opening a chain of restaurants in the city.\n\nThis company need to choose the correct location to start its first venture.If this is successful then they can replicate the same in other locations. First move is very important, thereby choice of location is very important for them.\n\nBelow data is taken from https://en.wikipedia.org/wiki/New_York_City\n\nThe City of New York is famous for its excelllent cuisine. It's food culture includes an array of international cuisines influenced by the city's immigrant history.\n\n1. Central and Eastern European immigrants, especially Jewish immigrants - bagels, cheesecake, hot dogs, knishes, and delicatessens\n2. Italian immigrants - New York-style pizza and Italian cuisine\n3. Jewish immigrants and Irish immigrants - pastrami and corned beef\n4. Chinese and other Asian restaurants, sandwich joints, trattorias, diners, and coffeehouses are ubiquitous throughout the city\n5. mobile food vendors - Some 4,000 licensed by the city\n6. Middle Eastern foods such as falafel and kebabs examples of modern New York street food\n7. It is famous for not just Pizzerias, Cafe's but also for fine dining Michelin starred restaurants.The city is home to \"nearly one thousand of the finest and most diverse haute cuisine restaurants in the world\", according to Michelin.\n\nBased on the above stats, in order to survive in such competitive market, it is very important to startegically plan. Restaurant business depends on various factors as listed below, hence these needs to be studied inorder to decide on the best possible ocatioln to start a first venture :\n\n1. Population \n2. Demographics \n3. Location of the Whole sale markets(Ex: Meat, Vegitables e.t.c) so that ingredients can be purchased fresh to maintain quality and cost?\n4. Nearby Venues in the Neighborhoods of the borough \n5. competitors in that location? \n6. Cuisine served by the competitors \n7. Segmentation of the Borough \n8. Market information ( Untapped / Tapped)\n", 
            "cell_type": "markdown", 
            "metadata": {}
        }, 
        {
            "source": "### Target Audience:", 
            "cell_type": "markdown", 
            "metadata": {}
        }, 
        {
            "source": "The objective of this project is to identify,provide recommendation on which neighborhood of Newyork city will be best suitable to start a restaurant and what cuisine can be offered. Also provide the rationale behind the recommendations made. These recommendations can help company in discussion or anyone who has plans of starting a new restaurant venture in Newyork city.", 
            "cell_type": "markdown", 
            "metadata": {}
        }
    ], 
    "metadata": {
        "kernelspec": {
            "display_name": "Python 3.6", 
            "name": "python3", 
            "language": "python"
        }, 
        "language_info": {
            "mimetype": "text/x-python", 
            "nbconvert_exporter": "python", 
            "version": "3.6.8", 
            "name": "python", 
            "file_extension": ".py", 
            "pygments_lexer": "ipython3", 
            "codemirror_mode": {
                "version": 3, 
                "name": "ipython"
            }
        }
    }, 
    "nbformat": 4
}