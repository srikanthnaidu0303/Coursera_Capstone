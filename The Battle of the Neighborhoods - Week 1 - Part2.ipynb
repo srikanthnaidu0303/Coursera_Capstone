{
    "nbformat_minor": 1, 
    "cells": [
        {
            "source": "## The Battle of the Neighborhoods - Week 1 - Data", 
            "cell_type": "markdown", 
            "metadata": {
                "collapsed": true
            }
        }, 
        {
            "source": "### Data :", 
            "cell_type": "markdown", 
            "metadata": {}
        }, 
        {
            "source": "As part of this project, we will be analysis the various factors that influence the decision on the Restaurant location. In order to conduct the analysis, we would require to analyse the following available datasets of New York City.", 
            "cell_type": "markdown", 
            "metadata": {}
        }, 
        {
            "source": "**Dataset1** : Neighborhood has a total of 5 boroughs and 306 neighborhoods. In order to segement the neighborhoods and explore them, we will essentially need a dataset that contains the 5 boroughs and the neighborhoods that exist in each borough as well as the the latitude and logitude coordinates of each neighborhood.This dataset has been sourced from the following Link. \n\nLink to the dataset : https://geo.nyu.edu/catalog/nyu_2451_34572", 
            "cell_type": "markdown", 
            "metadata": {}
        }, 
        {
            "source": "**Dataset2** : Second data which will be used is the DOHMH Farmers Markets dataset. In this we will be using the data of Farmers Markets.\nhttps://data.cityofnewyork.us/dataset/DOHMH-Farmers-Markets/8vwk-6iz2", 
            "cell_type": "markdown", 
            "metadata": {}
        }, 
        {
            "source": "**Dataset3** : For the below analysis we will get data from wikipedia as given below : \n1. Population \n2. Demographics \n3. Cuisine of New York city\n4. List of Michelin Stared Restaurants in the city\n\nhttps://en.wikipedia.org/wiki/New_York_City\n\nhttps://en.wikipedia.org/wiki/Economy_of_New_York_City\n\nhttps://en.wikipedia.org/wiki/Portal:New_York_City\n\nhttps://en.wikipedia.org/wiki/Cuisine_of_New_York_City\n\nhttps://en.wikipedia.org/wiki/List_of_Michelin_starred_restaurants_in_New_York_City", 
            "cell_type": "markdown", 
            "metadata": {}
        }, 
        {
            "source": "**Dataset4**: A data set will be constructed by using Foursuare API. Newyork city geographical coordinates data will be used as an input to secure the venues information for each neighborhood of the Boroughs. This dataset then will be futher segmented and clustered for analysis by using Machine learnign algarithms.\n\nFoursquare API url = https://api.foursquare.com/v2/venues/explore", 
            "cell_type": "markdown", 
            "metadata": {}
        }, 
        {
            "source": "", 
            "cell_type": "markdown", 
            "metadata": {}
        }, 
        {
            "source": "", 
            "cell_type": "markdown", 
            "metadata": {}
        }, 
        {
            "source": "", 
            "cell_type": "markdown", 
            "metadata": {}
        }, 
        {
            "source": "", 
            "cell_type": "markdown", 
            "metadata": {}
        }
    ], 
    "metadata": {
        "kernelspec": {
            "display_name": "Python 3.6", 
            "name": "python3", 
            "language": "python"
        }, 
        "language_info": {
            "mimetype": "text/x-python", 
            "nbconvert_exporter": "python", 
            "version": "3.6.8", 
            "name": "python", 
            "file_extension": ".py", 
            "pygments_lexer": "ipython3", 
            "codemirror_mode": {
                "version": 3, 
                "name": "ipython"
            }
        }
    }, 
    "nbformat": 4
}